{
 "cells": [
  {
   "cell_type": "markdown",
   "metadata": {},
   "source": [
    "# Project written in Python Using Jupyter for Physics\n",
    "\n",
    "**This is a reproduction of a scientific paper calculations based on my master degree in Physics which resulted in the publication:** [*de Broglie-Proca and Bopp-Podolsky massive photon gases in cosmology*](http://iopscience.iop.org/article/10.1209/0295-5075/118/19001/meta).\n",
    "\n",
    "You can also download the paper for free at [arXiv](https://arxiv.org/abs/1611.00877).\n",
    "\n",
    "The original program was done in a Wolfram Mathematica notebook together with [Eduardo Morais](http://demorais.com.br/). The following content was done by Clícia Naldoni de Souza in Python using IPython (now Jupyter) notebook.\n",
    "\n",
    "The original work was written in Portuguese and can be found [here](http://naldoni.org/wp-content/uploads/2017/06/PPGF_Dissertacao_Clicia_Naldoni_de_Souza.pdf)\n",
    "\n",
    "author: [*Clícia Naldoni de Souza*](naldoni.org)."
   ]
  },
  {
   "cell_type": "markdown",
   "metadata": {},
   "source": [
    "# Abstract\n",
    "\n",
    "The same procedure established by the classical field theory which leads us\n",
    "to Maxwell's equations also leads to Podolsky's electrodynamics provided\n",
    "that the Lagrangian contains derivatives of the field strength. With\n",
    "Podolsky's field equations in hand, which has a coupling constant $a$\n",
    "associated to the photon mass, it's possible to derive an equation of state\n",
    "for Podolsky's radiation. The equation of state is of the type $P=w\\left(\n",
    "a,T\\right) \\varepsilon $, where $P$ is the pressure of the photon gas; $%\n",
    "\\varepsilon $ is its energy density and $w$ is the barotropic parameter\n",
    "depending on the temperature $T$ and the photon mass. If we use the equation\n",
    "of state in the fluid equation and afterwards in Friedmann's equation, it's\n",
    "possible to solve the cosmic dynamics for a universe filled with Podolsky\n",
    "radiation. We show that the cosmic dynamics is not affected in a significant\n",
    "way by the massive photons, once $0,282<w_{\\text{Podolsky}}<w_{\\text{Maxwell}%\n",
    "}=1/3$ for any value of $T$, or equivalently of the cosmic time $t$.\n",
    "Podolsky correction to the Stefan-Boltzmann law is obtained for every $T$;\n",
    "it potentially describes the whole cosmic history. This correction is\n",
    "significant in the interval $0\\lesssim \\xi \\lesssim 8$ for the dimensionless\n",
    "parameter $\\xi =\\beta m$. The maximum influence of the photon mass takes\n",
    "place at $\\xi _{\\text{ref}}=2,899$. Out the above interval for $\\xi $,\n",
    "Podolsky cosmic dynamics tends to the Maxwell's one: the scale factor\n",
    "behaves as $\\sqrt{t}$ in the limits corresponding to the primeval universe ($%\n",
    "\\xi \\ll 1$) and present-day universe $(\\xi \\gg 1)$, when $w_{\\text{Podolsky}%\n",
    "}\\rightarrow w_{\\text{Maxwell}}$.\n",
    "\n",
    "\n",
    "\n",
    "$\\textbf{Keywords}$: Podolsky. Maxwell. Electrodynamics. Cosmology."
   ]
  },
  {
   "cell_type": "markdown",
   "metadata": {},
   "source": [
    "The logarithm of the partition function, $Z$, for a photon gas considering Podolsky Electrodynamics is:\n",
    "\n",
    "$\n",
    "\\ln Z\\left(  \\beta,m,V\\right)  =\\frac{\\pi^{2}V}{45\\beta^{3}}+\\frac{g_{N}V\\beta\n",
    "m^{4}}{2\\pi^{2}}\\sum_{k=1}^{\\infty}\\frac{K_{2}\\left(  k\\ \\beta\\ m\\right)\n",
    "}{\\left(  k\\ \\beta\\ m\\right)  ^{2}},\n",
    "$\n",
    "\n",
    "where $m$ is the photon gas mass (according to the electrodynamic model\n",
    "adopted), $V$ is the volume, $K_{2}\\left(  k\\ \\beta\\ m\\right)  $ is the\n",
    "special Bessel function of second type. Finally is $\\beta$ is defined as:\n",
    "\n",
    "$\n",
    "\\beta\\equiv\\frac{1}{k_{B}T},\n",
    "$\n",
    "\n",
    "$T$ is the temperature of the gas, $k_{B}$ is the Boltzmann constant. "
   ]
  },
  {
   "cell_type": "code",
   "execution_count": 47,
   "metadata": {
    "collapsed": true
   },
   "outputs": [],
   "source": [
    "import numpy as np\n",
    "from scipy.special import kn\n",
    "import matplotlib.pyplot as plt\n",
    "import math"
   ]
  },
  {
   "cell_type": "code",
   "execution_count": 48,
   "metadata": {},
   "outputs": [
    {
     "data": {
      "image/png": "[encoded data removed]",
      "text/plain": [
       "<matplotlib.figure.Figure at 0xb257240>"
      ]
     },
     "metadata": {},
     "output_type": "display_data"
    }
   ],
   "source": [
    "\n",
    "\n",
    "#argument of the Modified Bessel Function of the Second Kind \n",
    "epi=np.linspace(0,10) #it is beta*mass\n",
    "k=np.linspace(1,10) #it is the index of the sum\n",
    "k_epi=epi*k #packed argument\n",
    "gn=3 \n",
    "\n",
    "a_kn=kn(1,k_epi)/k_epi\n",
    "b_kn=kn(2,k_epi)/k_epi**2\n",
    "\n",
    "podolsky_density=(1+(((15*gn)*(epi**4)/(2*(math.pi**4)))*(a_kn+3*b_kn)))\n",
    "\n",
    "plt.figure()\n",
    "plt.plot(k_epi,podolsky_density,label='Test',linewidth=2)\n",
    "plt.legend(loc='best')\n",
    "\n",
    "ax=plt.gca()#an axis object\n",
    "ax.set_ylim([0,2.5])\n",
    "ax.set_xlim([0,10])\n",
    "\n",
    "plt.show()"
   ]
  },
  {
   "cell_type": "code",
   "execution_count": null,
   "metadata": {
    "collapsed": true
   },
   "outputs": [],
   "source": [
    "import numpy as np\n",
    "from scipy.special import kn\n",
    "import matplotlib.pyplot as plt\n",
    "import math\n",
    "\n",
    "#argument of the Modified Bessel Function of the Second Kind \n",
    "epi=np.linspace(0,10) #it is beta*mass\n",
    "k=np.linspace(1,10) #it is the index of the sum\n",
    "k_epi=epi*k #packed argument\n",
    "gn=3 \n",
    "\n",
    "a_kn=kn(1,k_epi)/k_epi\n",
    "b_kn=kn(2,k_epi)/k_epi**2\n",
    "\n",
    "podolsky_density=(1.0+(((15*gn)*(epi**4)/(2*(math.pi**4)))*(a_kn+3*b_kn)))\n",
    "\n",
    "plt.figure()\n",
    "plt.plot(k_epi,podolsky_density,label='Test',linewidth=2)\n",
    "plt.legend(loc='best')\n",
    "\n",
    "ax=plt.gca()#an axis object\n",
    "ax.set_ylim([0,2.5])\n",
    "ax.set_xlim([0,10])\n",
    "\n",
    "plt.show()"
   ]
  },
  {
   "cell_type": "code",
   "execution_count": 72,
   "metadata": {},
   "outputs": [
    {
     "data": {
      "image/png": "[encoded data removed]",
      "text/plain": [
       "<matplotlib.figure.Figure at 0xb4a3320>"
      ]
     },
     "metadata": {},
     "output_type": "display_data"
    }
   ],
   "source": [
    "def k_one(epis,n):\n",
    "    s=0\n",
    "    for i in range (1,n+1):\n",
    "        s+=(kn(1,i*epis)/(i*epis))\n",
    "    return s\n",
    "\n",
    "def k_two(epis,n):\n",
    "    s=0\n",
    "    for i in range (1,n+1):\n",
    "        s+=(kn(2,i*epis)/((i*epis)**2))\n",
    "    return s\n",
    "\n",
    "epis=np.linspace(0,10,1000)\n",
    "\n",
    "podolsky_dens_epis=(1+(((15*gn)*(epis**4)/(2*(math.pi**4)))*(k_one(epis,50)+3*k_two(epis,50))))\n",
    "\n",
    "plt.plot(epis,podolsky_dens_epis)\n",
    "ax=plt.gca()#an axis object\n",
    "ax.set_ylim([-0.1,2.5])\n",
    "ax.set_xlim([0,10])\n",
    "plt.show()"
   ]
  },
  {
   "cell_type": "code",
   "execution_count": null,
   "metadata": {
    "collapsed": true
   },
   "outputs": [],
   "source": []
  }
 ],
 "metadata": {
  "kernelspec": {
   "display_name": "Python 3",
   "language": "python",
   "name": "python3"
  },
  "language_info": {
   "codemirror_mode": {
    "name": "ipython",
    "version": 3
   },
   "file_extension": ".py",
   "mimetype": "text/x-python",
   "name": "python",
   "nbconvert_exporter": "python",
   "pygments_lexer": "ipython3",
   "version": "3.6.3"
  }
 },
 "nbformat": 4,
 "nbformat_minor": 2
}
